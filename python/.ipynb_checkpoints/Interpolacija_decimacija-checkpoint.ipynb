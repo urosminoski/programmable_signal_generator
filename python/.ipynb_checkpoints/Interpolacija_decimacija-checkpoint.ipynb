{
 "cells": [
  {
   "cell_type": "markdown",
   "metadata": {},
   "source": [
    "$\\newcommand{\\mr}[1]{\\mathrm{#1}}$ \n",
    "$\\newcommand{\\bmr}[1]{\\mathit{\\mathbf{#1}}}$ \n",
    "$\\newcommand{\\tr}{^\\mathrm{T}}$\n",
    "$\\newcommand{\\lbr}{\\left\\lbrace}$\n",
    "$\\newcommand{\\rbr}{\\right\\rbrace}$\n",
    "$\\newcommand{\\dd}{\\mathrm{d}}$\n",
    "$\\newcommand{\\jj}{\\mathrm{j}}$"
   ]
  },
  {
   "cell_type": "markdown",
   "metadata": {},
   "source": [
    "## <center> Pomoćne funkcije\n",
    "Interaktivni grafici koriste Python modul mpld3, koji se može instalirati komandom\n",
    "    \n",
    "    \n",
    "    conda install mpld3\n",
    "    \n",
    "Primeri rade i ukoliko modul mpld3 nije instaliran, ali grafici neće biti interaktivni."
   ]
  },
  {
   "cell_type": "code",
   "execution_count": null,
   "metadata": {},
   "outputs": [],
   "source": [
    "%matplotlib inline\n",
    "import warnings\n",
    "warnings.filterwarnings(\"ignore\")\n",
    "import matplotlib.pyplot as plt\n",
    "import numpy as np\n",
    "import scipy.signal as signal\n",
    "try:\n",
    "    import mpld3\n",
    "    mpld3.enable_notebook()\n",
    "    print(\"Modul mpld3 je instaliran.\")\n",
    "except:\n",
    "    print(\"Modul mpld3 nije instaliran.\")\n",
    "    \n",
    "def plotSpectrum(x, xlabel = \"\", ylabel=\"\", title=\"\", show=True):\n",
    "    n = len(x)\n",
    "    plt.plot(np.fft.fftshift(np.fft.fftfreq(n)),np.fft.fftshift(abs(np.fft.fft(x))));\n",
    "    plt.xlabel(xlabel); plt.ylabel(ylabel); plt.title(title);\n",
    "    if show:\n",
    "        plt.show()\n",
    "        \n",
    "def plotSpectrumdB(x, xlabel = \"\", ylabel=\"\", title=\"\", show=True):\n",
    "    n = len(x)\n",
    "    plt.plot(np.fft.fftshift(np.fft.fftfreq(n)),20*np.log10(np.fft.fftshift(abs(np.fft.fft(x)))));\n",
    "    plt.xlabel(xlabel); plt.ylabel(ylabel); plt.title(title);\n",
    "    if show:\n",
    "        plt.show()\n",
    "    \n",
    "def stemSpectrum(x, xlabel = \"\", ylabel=\"\", title=\"\", show=True):\n",
    "    n = len(x)\n",
    "    F = np.fft.fftshift(np.fft.fftfreq(n))\n",
    "    X = np.fft.fftshift(abs(np.fft.fft(x)))\n",
    "    plt.stem(F, X)#, use_line_collection=True);\n",
    "    plt.xlabel(xlabel); plt.ylabel(ylabel); plt.title(title);\n",
    "    if show:\n",
    "        plt.show()\n",
    "\n",
    "def plotSignal(x, xlabel = \"\", ylabel=\"\", title=\"\", show=True):\n",
    "    plt.plot(x);\n",
    "    plt.xlabel(xlabel); plt.ylabel(ylabel); plt.title(title);\n",
    "    if show:\n",
    "        plt.show()\n",
    "\n",
    "def stemSignal(x, xlabel = \"\", ylabel=\"\", title=\"\", show=True):\n",
    "    plt.stem(x)# ,use_line_collection=True);\n",
    "    plt.xlabel(xlabel); plt.ylabel(ylabel); plt.title(title);\n",
    "    if show:\n",
    "        plt.show()\n",
    "\n",
    "def genTestSpectrum(n, freq, amp, randPhase=False):\n",
    "    # Generate test spectrum\n",
    "    # Arguments:\n",
    "    #    n    - number of samples\n",
    "    #    freq - tuple of digital frequencies (startFreq, endFreq) in range (0, 0.5)\n",
    "    #    amp  - tuple of amplitudes (ampStart, ampEnd)\n",
    "    #    randPhase - if True, assign random phase to each sample\n",
    "    x = np.zeros(n, dtype='complex128')\n",
    "    freqStart, freqEnd = freq\n",
    "    ampStart, ampEnd = amp\n",
    "    indStart = round(n*freqStart)\n",
    "    indEnd = round(n*freqEnd)\n",
    "    x[indStart:indEnd] = ampStart - np.linspace(0, 1, num=indEnd-indStart) * (ampStart-ampEnd)\n",
    "    if randPhase:\n",
    "        x[indStart:indEnd] *= np.exp(1j*2*np.pi*np.random.rand(indEnd-indStart)) # randomize phase\n",
    "    x[0] = abs(x[1])/2\n",
    "    timeDomain = np.fft.ifft(x)\n",
    "    return(timeDomain)\n",
    "\n",
    "def compressor(x, D):\n",
    "    # Downsample the signal by factor D\n",
    "    #   x - input signal\n",
    "    #   D - downsampling factor\n",
    "    return x[0::D]\n",
    "\n",
    "def expander(x, I):\n",
    "    # Upsample the signal by factor I\n",
    "    #   x - input signal\n",
    "    #   I - upsampling factor\n",
    "    nx = len(x)\n",
    "    xI = np.zeros(nx*I)\n",
    "    xI[::I] = x\n",
    "    return xI\n",
    "\n"
   ]
  },
  {
   "cell_type": "markdown",
   "metadata": {},
   "source": [
    "# <center> Decimacija signala"
   ]
  },
  {
   "cell_type": "code",
   "execution_count": null,
   "metadata": {},
   "outputs": [],
   "source": [
    "n = 1024\n",
    "f_max = 0.2\n",
    "f = [0.0, f_max]\n",
    "a = [1.0, 1.0]\n",
    "x = 2*genTestSpectrum(n, f, a, True).real\n",
    "figH = 4\n",
    "plt.subplots(1,2,figsize=(2*1.618*figH,figH))\n",
    "plt.subplot(1,2,1)\n",
    "plotSignal(x, 'n', 'x(n)', show=False)\n",
    "plt.subplot(1,2,2)\n",
    "plotSpectrum(x, 'F', '|X(F)|')"
   ]
  },
  {
   "cell_type": "code",
   "execution_count": null,
   "metadata": {},
   "outputs": [],
   "source": [
    "nFIR = 41\n",
    "D = 4\n",
    "transitionWidth = 0.05\n",
    "firResponse = [1.0, 1.0, 0, 0]\n",
    "firFreqs = [0, 1.0/(2*D)-transitionWidth, 1.0/(2*D), 0.5]\n",
    "firCoeff = signal.firls(nFIR, firFreqs, firResponse, fs=1)\n",
    "w, h = signal.freqz(firCoeff)\n",
    "H = 20*np.log10(abs(h))\n",
    "plt.plot(w/(2*np.pi), H);\n",
    "plt.plot([1.0/(2*D)-transitionWidth,1.0/(2*D)-transitionWidth], [np.min(H), 0], 'r--');\n",
    "plt.plot([1.0/(2*D),1.0/(2*D)], [np.min(H), 0], 'r--');\n",
    "#plt.ylim(-2,2)"
   ]
  },
  {
   "cell_type": "code",
   "execution_count": null,
   "metadata": {
    "scrolled": true
   },
   "outputs": [],
   "source": [
    "# If initial conditions of FIR filter are all zeros the filtered output is not periodic\n",
    "# and this leads to spectrum leakage\n",
    "xlp_zeroinit = signal.lfilter(firCoeff, 1.0, x)\n",
    "# This can be mitigated by circular extension of input samples\n",
    "xlp_periodic = signal.lfilter(firCoeff, 1.0, np.concatenate((x,x[0:len(firCoeff)-1])))\n",
    "xlp_periodic = xlp_periodic[len(firCoeff)-1:]  # discard extra samples\n",
    "# or by setting the initial condition of FIR filter\n",
    "tmp, zi = signal.lfilter(firCoeff, 1.0, x, zi=np.zeros(len(firCoeff)-1))\n",
    "# Now use determined initial conditions\n",
    "xlp_periodicinit = signal.lfilter(firCoeff, 1.0, x, zi=zi)[0]\n",
    "# Plot filter output with zero init\n",
    "figH = 4\n",
    "plt.subplots(1,3,figsize=(2*1.618*figH,figH))\n",
    "plt.subplot(1,3,1)\n",
    "plotSpectrumdB(x, show=False)\n",
    "plotSpectrumdB(xlp_zeroinit, show=False)\n",
    "plt.ylim(-60,1)\n",
    "plt.plot([1.0/(2*D)-transitionWidth,1.0/(2*D)-transitionWidth], [np.min(H), 0], 'r--');\n",
    "plt.plot([1.0/(2*D),1.0/(2*D)], [np.min(H), 0], 'r--');\n",
    "plt.xlabel('F'); plt.ylabel('|X(F)|'); plt.title('Zero init');\n",
    "# Plot filter output for cicrular extension\n",
    "plt.subplot(1,3,2)\n",
    "plotSpectrumdB(x, show=False)\n",
    "plotSpectrumdB(xlp_periodic, show=False)\n",
    "plt.ylim(-60,1)\n",
    "plt.plot([1.0/(2*D)-transitionWidth,1.0/(2*D)-transitionWidth], [np.min(H), 0], 'r--');\n",
    "plt.plot([1.0/(2*D),1.0/(2*D)], [np.min(H), 0], 'r--');\n",
    "plt.xlabel('F'); plt.ylabel('|X(F)|'); plt.title('Circular extension');\n",
    "# Plot filter output for initial conditions\n",
    "plt.subplot(1,3,3)\n",
    "plotSpectrumdB(x, show=False)\n",
    "plotSpectrumdB(xlp_periodicinit, show=False)\n",
    "plt.ylim(-60,1)\n",
    "plt.plot([1.0/(2*D)-transitionWidth,1.0/(2*D)-transitionWidth], [np.min(H), 0], 'r--');\n",
    "plt.plot([1.0/(2*D),1.0/(2*D)], [np.min(H), 0], 'r--');\n",
    "plt.xlabel('F'); plt.ylabel('|X(F)|'); plt.title('Periodic initial conditions');\n",
    "plt.show()"
   ]
  },
  {
   "cell_type": "code",
   "execution_count": null,
   "metadata": {},
   "outputs": [],
   "source": [
    "xD = compressor(xlp_periodic, D)\n",
    "figH = 4\n",
    "plt.subplots(1,2,figsize=(2*1.618*figH,figH))\n",
    "plt.subplot(1,2,1)\n",
    "plotSpectrum(xD, 'F', '|XD(F)|', 'Spektar decimiranog signala', show=False)\n",
    "plt.subplot(1,2,2)\n",
    "plotSpectrumdB(xD, 'F', '|XD(F)|', 'Spektar decimiranog signala')"
   ]
  },
  {
   "cell_type": "markdown",
   "metadata": {},
   "source": [
    "# <center> Interpolacija signala"
   ]
  },
  {
   "cell_type": "code",
   "execution_count": null,
   "metadata": {},
   "outputs": [],
   "source": [
    "n = 1024\n",
    "f_max = 0.4\n",
    "f = [0.0, f_max]\n",
    "a = [1.0, 1.0]\n",
    "x = 2*genTestSpectrum(n, f, a, True).real\n",
    "figH = 4\n",
    "plt.subplots(1,2,figsize=(2*1.618*figH,figH))\n",
    "plt.subplot(1,2,1)\n",
    "plotSignal(x, 'n', 'x(n)', show=False)\n",
    "plt.subplot(1,2,2)\n",
    "plotSpectrum(x, 'F', '|X(F)|')"
   ]
  },
  {
   "cell_type": "code",
   "execution_count": null,
   "metadata": {},
   "outputs": [],
   "source": [
    "I = 4\n",
    "xI = expander(x, I)\n",
    "figH = 7\n",
    "plt.subplots(2,2,figsize=(1.618*figH,figH))\n",
    "plt.subplot(2,2,1)\n",
    "stemSignal(x[0:32], 'n', 'x(n)', 'Signal na fs' , show=False)\n",
    "plt.subplot(2,2,2)\n",
    "stemSignal(xI[0:32], 'n', 'xI(n)', 'Signal na I*fs', show=False)\n",
    "plt.subplot(2,2,3)\n",
    "plotSpectrum(x, 'F', '|X(F)|', 'Spektar x(n)', show=False)\n",
    "plt.subplot(2,2,4)\n",
    "plotSpectrum(xI,\"F'\", \"|XI(F')|\", 'Spektar xI(n)', show=False)\n",
    "plt.tight_layout()\n",
    "plt.show()"
   ]
  },
  {
   "cell_type": "code",
   "execution_count": null,
   "metadata": {},
   "outputs": [],
   "source": [
    "nFIR = 41\n",
    "I = 4\n",
    "firResponse = [I, I, 0, 0] # interpolation filter should have gain I\n",
    "# Expander maps the spectrum (0, f_max) to (0, f_max/I), so that should be the pass band of FIR filter\n",
    "# Spectral images are centered at k/I, so the lowest image frequency is 1/I-f_max/I\n",
    "firFreqs = [0, f_max/I, 1/I-f_max/I, 0.5]\n",
    "firCoeff = signal.firls(nFIR, firFreqs, firResponse, fs=1)\n",
    "w, h = signal.freqz(firCoeff)\n",
    "H = 20*np.log10(abs(h))\n",
    "plt.plot(w/(2*np.pi), H);\n",
    "plt.plot([f_max/I,f_max/I], [np.min(H), np.max(H)], 'r--');\n",
    "plt.plot([1/I-f_max/I,1/I-f_max/I], [np.min(H),  np.max(H)], 'r--');"
   ]
  },
  {
   "cell_type": "code",
   "execution_count": null,
   "metadata": {},
   "outputs": [],
   "source": [
    "# If initial conditions of FIR filter are all zeros the filtered output is not periodic\n",
    "# and this leads to spectrum leakage\n",
    "xlp_zeroinit = signal.lfilter(firCoeff, 1.0, x)\n",
    "# This can be mitigated by circular extension of input samples\n",
    "xlp_periodic = signal.lfilter(firCoeff, 1.0, np.concatenate((xI,xI[0:len(firCoeff)-1])))\n",
    "xlp_periodic = xlp_periodic[len(firCoeff)-1:]  # discard extra samples\n",
    "plotSpectrumdB(xI, show=False)\n",
    "plotSpectrumdB(xlp_periodic, show=False)\n",
    "plt.ylim(-90,20*np.log10(I)+5)\n",
    "plt.plot([f_max/I,f_max/I], [np.min(H), np.max(H)], 'r--');\n",
    "plt.plot([1/I-f_max/I,1/I-f_max/I], [np.min(H), np.max(H)], 'r--');\n",
    "plt.xlabel('F'); plt.ylabel('|X(F)|'); plt.title('Circular extension');\n",
    "plt.show()"
   ]
  },
  {
   "cell_type": "markdown",
   "metadata": {},
   "source": [
    "# <center> Interpolacija sinusoide"
   ]
  },
  {
   "cell_type": "code",
   "execution_count": null,
   "metadata": {},
   "outputs": [],
   "source": [
    "n = 1024\n",
    "I = 4\n",
    "delay = 3\n",
    "f0 = 32\n",
    "F0 = f0/n\n",
    "x = np.sin(2*np.pi*f0*np.arange(0,n)/n)\n",
    "stemSignal(x[0:32])\n",
    "xD = compressor(x, I)\n",
    "stemSignal(xD[0:32])"
   ]
  },
  {
   "cell_type": "code",
   "execution_count": null,
   "metadata": {},
   "outputs": [],
   "source": [
    "xI = expander(xD, I)\n",
    "stemSignal(xI[0:32])\n",
    "plotSpectrum(xD, show=False)\n",
    "plotSpectrum(xI)"
   ]
  },
  {
   "cell_type": "code",
   "execution_count": null,
   "metadata": {},
   "outputs": [],
   "source": [
    "nFIR = 31\n",
    "firResponse = [I, I, 0, 0] # interpolation filter should have gain I\n",
    "firFreqs = [0, F0, 1/I-F0, 0.5]\n",
    "firCoeff = signal.firls(nFIR, firFreqs, firResponse, fs=1)\n",
    "w, h = signal.freqz(firCoeff)\n",
    "H = 20*np.log10(abs(h))\n",
    "plt.plot(w/(2*np.pi), H);\n",
    "plt.plot([F0,F0], [np.min(H), np.max(H)], 'r--');\n",
    "plt.plot([1/I-F0,1/I-F0], [np.min(H),  np.max(H)], 'r--');\n",
    "plotSpectrumdB(xI, show=False)\n",
    "plt.ylim(-100, 20*np.log10(I)+1)\n",
    "plt.xlim(0, 0.5)\n",
    "plt.show()"
   ]
  },
  {
   "cell_type": "code",
   "execution_count": null,
   "metadata": {},
   "outputs": [],
   "source": [
    "xI_lpf = signal.lfilter(firCoeff, 1.0, xI)\n",
    "xout = compressor(xI_lpf, I)[int((nFIR-1)/2):]\n",
    "#stemSignal(xout[0:32],show=False)\n",
    "plt.stem(xout[0:32],markerfmt='o');\n",
    "offset = 13\n",
    "tmp = x[offset:]\n",
    "tmp = tmp[::I]\n",
    "plt.stem(tmp[0:32],markerfmt='x');\n",
    "#stemSignal(xD[0:32])"
   ]
  },
  {
   "cell_type": "code",
   "execution_count": null,
   "metadata": {},
   "outputs": [],
   "source": []
  }
 ],
 "metadata": {
  "kernelspec": {
   "display_name": "Python 3",
   "language": "python",
   "name": "python3"
  },
  "language_info": {
   "codemirror_mode": {
    "name": "ipython",
    "version": 3
   },
   "file_extension": ".py",
   "mimetype": "text/x-python",
   "name": "python",
   "nbconvert_exporter": "python",
   "pygments_lexer": "ipython3",
   "version": "3.7.6"
  }
 },
 "nbformat": 4,
 "nbformat_minor": 2
}
