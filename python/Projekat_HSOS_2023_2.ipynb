{
 "cells": [
  {
   "cell_type": "markdown",
   "metadata": {},
   "source": [
    "$\\newcommand{\\mr}[1]{\\mathrm{#1}}$ \n",
    "$\\newcommand{\\bmr}[1]{\\mathit{\\mathbf{#1}}}$ \n",
    "$\\newcommand{\\tr}{^\\mathrm{T}}$\n",
    "$\\newcommand{\\lbr}{\\left\\lbrace}$\n",
    "$\\newcommand{\\rbr}{\\right\\rbrace}$\n",
    "$\\newcommand{\\dd}{\\mathrm{d}}$\n",
    "$\\newcommand{\\jj}{\\mathrm{j}}$"
   ]
  },
  {
   "cell_type": "markdown",
   "metadata": {},
   "source": [
    "## <center> Pomoćne funkcije\n",
    "Interaktivni grafici koriste Python modul mpld3, koji se može instalirati komandom\n",
    "    \n",
    "    \n",
    "    conda install mpld3\n",
    "    \n",
    "Primeri rade i ukoliko modul mpld3 nije instaliran, ali grafici neće biti interaktivni."
   ]
  },
  {
   "cell_type": "code",
   "execution_count": null,
   "metadata": {},
   "outputs": [],
   "source": [
    "%matplotlib inline\n",
    "import warnings\n",
    "warnings.filterwarnings(\"ignore\")\n",
    "import matplotlib.pyplot as plt\n",
    "import numpy as np\n",
    "import scipy.signal as signal\n",
    "try:\n",
    "    import mpld3\n",
    "    mpld3.enable_notebook()\n",
    "    print(\"Modul mpld3 je instaliran.\")\n",
    "except:\n",
    "    print(\"Modul mpld3 nije instaliran.\")\n",
    "    \n",
    "def plotSpectrum(x, xlabel = \"\", ylabel=\"\", title=\"\", show=True):\n",
    "    n = len(x)\n",
    "    plt.plot(np.fft.fftshift(np.fft.fftfreq(n)),np.fft.fftshift(abs(np.fft.fft(x))));\n",
    "    plt.xlabel(xlabel); plt.ylabel(ylabel); plt.title(title);\n",
    "    if show:\n",
    "        plt.show()\n",
    "    \n",
    "def stemSpectrum(x, xlabel = \"\", ylabel=\"\", title=\"\", show=True):\n",
    "    n = len(x)\n",
    "    F = np.fft.fftshift(np.fft.fftfreq(n))\n",
    "    X = np.fft.fftshift(abs(np.fft.fft(x)))\n",
    "    plt.stem(F, X)#, use_line_collection=True);\n",
    "    plt.xlabel(xlabel); plt.ylabel(ylabel); plt.title(title);\n",
    "    if show:\n",
    "        plt.show()\n",
    "\n",
    "def plotSignal(x, xlabel = \"\", ylabel=\"\", title=\"\", show=True):\n",
    "    plt.plot(x);\n",
    "    plt.xlabel(xlabel); plt.ylabel(ylabel); plt.title(title);\n",
    "    if show:\n",
    "        plt.show()\n",
    "\n",
    "def stemSignal(x, xlabel = \"\", ylabel=\"\", title=\"\", show=True):\n",
    "    plt.stem(x)# ,use_line_collection=True);\n",
    "    plt.xlabel(xlabel); plt.ylabel(ylabel); plt.title(title);\n",
    "    if show:\n",
    "        plt.show()\n",
    "    "
   ]
  },
  {
   "cell_type": "code",
   "execution_count": null,
   "metadata": {},
   "outputs": [],
   "source": [
    "def readSamples(fileName):\n",
    "    samples = []\n",
    "    inFile = open(fileName, \"r\")\n",
    "    for line in inFile:\n",
    "        samples.append( complex(line) )\n",
    "    return np.array(samples)"
   ]
  },
  {
   "cell_type": "code",
   "execution_count": null,
   "metadata": {},
   "outputs": [],
   "source": [
    "fs = 61.44e6\n",
    "testsignal = readSamples(\"testsignal.txt\")\n",
    "N = len(testsignal)\n",
    "freqs = (np.arange(N)/N - 0.5) * fs/1e6\n",
    "plt.plot(freqs, np.fft.fftshift(abs(np.fft.fft(testsignal))))\n",
    "plt.xlabel(\"f [MHz]\")\n",
    "plt.ylabel(\"|X|\");"
   ]
  },
  {
   "cell_type": "code",
   "execution_count": null,
   "metadata": {},
   "outputs": [],
   "source": [
    "M = 16\n",
    "oversampled_signal = np.zeros(len(testsignal)*M,dtype=complex) # argument dtype=complex je obavezan!\n",
    "oversampled_signal[::M] = testsignal\n",
    "freqs = (np.arange(N*M)/(N*M) - 0.5) * M*fs/1e6\n",
    "plt.plot(freqs, np.fft.fftshift(abs(np.fft.fft(oversampled_signal))))\n",
    "plt.xlabel(\"f [MHz]\")\n",
    "plt.ylabel(\"|X|\");"
   ]
  },
  {
   "cell_type": "code",
   "execution_count": null,
   "metadata": {},
   "outputs": [],
   "source": [
    "from remezlp import *\n",
    "\n",
    "fmax = 25.0e6\n",
    "fs = 61.44e6\n",
    "\n",
    "Fpass = fmax/fs / M\n",
    "Fstop = ((fs/2 -fmax)*2 + fmax)/fs/M\n",
    "AdB = 60.0\n",
    "Amax = 20.0*np.log10(1.0+10.0**(-AdB/20.0))\n",
    "Amin = 20.0*np.log10(1.0-10.0**(-AdB/20.0))\n",
    "\n",
    "deltaPass = 10.0**(-AdB/20.0)\n",
    "deltaStop = deltaPass\n",
    "\n",
    "plt.plot(freqs, np.fft.fftshift(abs(np.fft.fft(oversampled_signal))))\n",
    "plt.plot([-M*fs/2/1e6, -M*Fstop*fs/1e6, -M*Fpass*fs/1e6, M*Fpass*fs/1e6, M*Fstop*fs/1e6, M*fs/2/1e6],[0, 0, 1, 1, 0, 0], 'r')\n",
    "plt.xlabel(\"f [MHz]\")\n",
    "plt.ylabel(\"|X|\");"
   ]
  },
  {
   "cell_type": "code",
   "execution_count": null,
   "metadata": {},
   "outputs": [],
   "source": [
    "h = remezlp( Fpass, Fstop, deltaPass, deltaStop, nPoints=8192*8,Nmax=500)\n",
    "# Test signal se periodicno produzava za len(h)/2 odbiraka, koliko iznosi kasnjenje filtra.\n",
    "oversampled_signal_perext = np.concatenate((oversampled_signal, oversampled_signal[0:int(len(h/2))]))\n",
    "xi = signal.lfilter(h, 1, oversampled_signal_perext)\n",
    "xi = xi[len(h):]\n",
    "plt.plot(freqs, np.fft.fftshift(abs(np.fft.fft(xi))))\n",
    "plt.plot([-M*fs/2/1e6, -M*Fstop*fs/1e6, -M*Fpass*fs/1e6, M*Fpass*fs/1e6, M*Fstop*fs/1e6, M*fs/2/1e6],[0, 0, 1, 1, 0, 0], 'r')\n",
    "plt.xlabel(\"f [MHz]\")\n",
    "plt.ylabel(\"|X|\");"
   ]
  },
  {
   "cell_type": "code",
   "execution_count": null,
   "metadata": {},
   "outputs": [],
   "source": [
    "XdB = 20*np.log10(np.fft.fftshift(abs(np.fft.fft(xi))))\n",
    "plt.plot(freqs, XdB-np.max(XdB))\n",
    "plt.ylim(-80,0);"
   ]
  },
  {
   "cell_type": "code",
   "execution_count": null,
   "metadata": {},
   "outputs": [],
   "source": [
    "XdB = 20*np.log10(np.fft.fftshift(abs(np.fft.fft(xi* signal.hann(len(xi),'periodic')))))\n",
    "plt.plot(freqs, XdB-np.max(XdB))\n",
    "plt.ylim(-80,0);"
   ]
  },
  {
   "cell_type": "code",
   "execution_count": null,
   "metadata": {},
   "outputs": [],
   "source": [
    "f0 = M*fs*3/8\n",
    "#f0 = M*fs*1/8\n",
    "Omega0 = 2 * np.pi * f0/(M*fs)\n",
    "n = np.arange(len(xi))\n",
    "cplx_sine = np.exp(1j * n * Omega0)\n",
    "#cplx_sine = np.round(np.exp(1j * n * Omega0), 3) # konacna tacnost CORDIC-a\n",
    "xi_shifted = xi * cplx_sine\n",
    "#xi_shifted = np.round(xi * cplx_sine, 3) # konacna tacnost duzine binarne reci\n",
    "XdB_shifted = 20*np.log10(np.fft.fftshift(abs(np.fft.fft(xi_shifted))))\n",
    "plt.plot(freqs, XdB_shifted-np.max(XdB_shifted))\n",
    "plt.ylim(-80,0);"
   ]
  },
  {
   "cell_type": "code",
   "execution_count": null,
   "metadata": {},
   "outputs": [],
   "source": [
    "xr = xi_shifted.real\n",
    "#XrdB = 20*np.log10(np.fft.fftshift(abs(np.fft.fft(xr* signal.hann(len(xi),'periodic')))))\n",
    "XrdB = 20*np.log10(np.fft.fftshift(abs(np.fft.fft(xr))))\n",
    "plt.plot(freqs, XrdB-np.max(XrdB))\n",
    "plt.ylim(-80,0);"
   ]
  },
  {
   "cell_type": "code",
   "execution_count": null,
   "metadata": {},
   "outputs": [],
   "source": [
    "NyqZones = 4\n",
    "nrz = np.ones(NyqZones)\n",
    "xr_upsampled = np.zeros((len(xr)-1)*NyqZones+1)\n",
    "xr_upsampled[::NyqZones] = xr\n",
    "xr_nrz = np.convolve(nrz, xr_upsampled)\n",
    "XrnrzdB = 20*np.log10(np.fft.fftshift(abs(np.fft.fft(xr_nrz))))\n",
    "freqs_nrz = (np.arange(N*M*len(nrz))/(N*M*len(nrz)) - 0.5) * M*fs*len(nrz)/1e6\n",
    "plt.plot(freqs_nrz, XrnrzdB-np.max(XrnrzdB))\n",
    "plt.plot(freqs, XrdB-np.max(XrdB),'r')\n",
    "plt.ylim(-80,0);"
   ]
  },
  {
   "cell_type": "code",
   "execution_count": null,
   "metadata": {},
   "outputs": [],
   "source": [
    "NyqZones = 4\n",
    "rf = np.concatenate([np.ones(int(NyqZones/2)), -1.0*np.ones(int(NyqZones/2))])\n",
    "xr_rf = np.convolve(rf, xr_upsampled)\n",
    "XrrfdB = 20*np.log10(np.fft.fftshift(abs(np.fft.fft(xr_rf))))\n",
    "freqs_rf = (np.arange(N*M*len(rf))/(N*M*len(rf)) - 0.5) * M*fs*len(rf)/1e6\n",
    "plt.plot(freqs_rf, XrrfdB-np.max(XrrfdB))\n",
    "plt.plot(freqs_nrz, XrnrzdB-np.max(XrnrzdB),'r--')\n",
    "plt.ylim(-80,0);"
   ]
  },
  {
   "cell_type": "code",
   "execution_count": null,
   "metadata": {},
   "outputs": [],
   "source": [
    "plt.plot(freqs_rf, XrrfdB-np.max(XrrfdB))\n",
    "plt.plot(freqs+M*fs/1e6, XrdB-np.max(XrdB),'r')\n",
    "plt.ylim(-80,0);"
   ]
  },
  {
   "cell_type": "code",
   "execution_count": null,
   "metadata": {},
   "outputs": [],
   "source": []
  }
 ],
 "metadata": {
  "kernelspec": {
   "display_name": "Python 3",
   "language": "python",
   "name": "python3"
  },
  "language_info": {
   "codemirror_mode": {
    "name": "ipython",
    "version": 3
   },
   "file_extension": ".py",
   "mimetype": "text/x-python",
   "name": "python",
   "nbconvert_exporter": "python",
   "pygments_lexer": "ipython3",
   "version": "3.7.6"
  }
 },
 "nbformat": 4,
 "nbformat_minor": 2
}
